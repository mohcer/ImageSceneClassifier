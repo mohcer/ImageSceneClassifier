{
 "cells": [
  {
   "cell_type": "code",
   "execution_count": null,
   "metadata": {
    "collapsed": false
   },
   "outputs": [],
   "source": [
    "import matplotlib.pyplot as plt\n",
    "import matplotlib.image as mpimg\n",
    "import glob, os\n",
    "import pandas as pd\n",
    "import numpy as np\n",
    "\n",
    "from sklearn.metrics import confusion_matrix\n",
    "from sklearn.preprocessing import StandardScaler\n",
    "from keras.preprocessing.image import img_to_array"
   ]
  },
  {
   "cell_type": "code",
   "execution_count": null,
   "metadata": {
    "collapsed": false
   },
   "outputs": [],
   "source": []
  },
  {
   "cell_type": "code",
   "execution_count": 6,
   "metadata": {
    "collapsed": false
   },
   "outputs": [
    {
     "name": "stdout",
     "output_type": "stream",
     "text": [
      "[[-0.05204769  0.25077984  0.14757447 ...,  1.72600758  2.01992631\n",
      "   2.17504001]\n",
      " [-0.3590436  -0.42147332 -0.40342531 ..., -1.39120698 -1.42022455\n",
      "  -1.11065793]\n",
      " [ 0.80071872  0.80237216  0.83632421 ..., -1.46632063 -1.55326903\n",
      "  -1.49829638]\n",
      " ..., \n",
      " [ 0.68133146  0.64723682  0.66413677 ..., -1.25975823 -1.19214833\n",
      "  -1.07373989]\n",
      " [-1.14358878 -1.19714999 -1.1954875  ...,  0.1674003   0.13829681\n",
      "   0.12609358]\n",
      " [-0.90481412 -0.95582843 -0.93720633 ...,  0.3739627   0.2333286\n",
      "   0.34760129]]\n",
      "[1 1 1 1 1 1 1 1 1 1 1 1 1 1 1 0 1 1 0 1 0 1 0 1 0 0 1 1 1 1 0 1 0 1 1 1 1\n",
      " 0 0 0 1 1 0 1 1 1 0 1 1 1 0 0 1 1 1 1 1 1 0 1 0 0 0 1 0 1 0 0 1 1 1 0 1 1\n",
      " 0 1 1 0 0 1 1 1 0 1 1 0 1 1 0 0 1 1 1 0 0 1 1 1 1 1 0 1 0 1 0 1 0 1 1 1 1\n",
      " 1 1 1 1 0 1 1 1 1 0 0 1 1 1 1 0 1 0 0 1 0 0 1 1 1 1 0 1 1 1 1 0 1 0 1 0 0\n",
      " 1 1 1 0 1 1 0 1 1 1 1 1 1 1 1 1 1 1 1 1 0 1 0 0 1 1 0 0 1 0 1 1 0 0 1 0 0\n",
      " 1 0 1 0 1 0 0 1 1 0 1 1 1 1 1 1 0 0 1 1 0 1 1 0 0 1 0 1 0 1 1 0 0 0 1 1 1\n",
      " 0 1 0 0 0 1 0 0 0 0 1 1 1 0 1 1 1 1 1 0 0 0 1 1 1 1 0 1 1 1 1 0 1 1 0 1 0\n",
      " 1 1 1 1 1 0 0 0 0 1 0 0 0 0 0 0 0 1 0 0 0 0 1 0 0 1 1 1 0 1 0 0 1 0 1 0 0\n",
      " 0 1 1 1 0 0 1 1 1 1 1 0 1 1 1 1 0 1 1 0 0 1 1 0 0 0 1 1 0 1 1 1 1 1 0 1 1\n",
      " 0 1 1 1 1 1 0 0 0 1 1 1 1 0 1 1 0 0 1 1 0 0 1 1 1 1 1 0 0 1 1 0 1 1 1 0 1\n",
      " 0 0 1 0 1 1 1 1 1 1 1 1 1 1 0 0 1 1 1 1 1 0 0 1 1 0 1 1 1 0 1 1 0 0 1 1 1\n",
      " 1 0 0 0 0 0 0 1 1 1 0 0 1 0 0 1 1 1 1 1 0 1 1 1 0 0 0 1 0 1 1 1 1 0 1 0 1\n",
      " 1 1 0 1 0 0 1 1 0 0 1 0 1 1 0 0 0 1 0 0 1 0 0 0 0 0 1 1 1 0 1 0 1 1 0 1 1\n",
      " 0 1 1 0 1 1 1 0 1 0 1 1 0 1 1 0 1 1 0 1 0 1]\n"
     ]
    }
   ],
   "source": [
    "os.chdir(\"/home/admin1/NUS_MCOMP/ML/Project/fwd/group_1/train\")\n",
    "\n",
    "train_labels = np.empty(shape=[0, 2], dtype=np.float32)\n",
    "\n",
    "#crete the training set\n",
    "tx = []\n",
    "train = []\n",
    "count = 0\n",
    "for file in glob.glob(\"*.jpg\"):\n",
    "    name=file.split('_')\n",
    "    \n",
    "    train_labels = np.append(train_labels, name[1])\n",
    "    filename = '/home/admin1/NUS_MCOMP/ML/Project/fwd/group_1/train/{}'.format(file)\n",
    "    img    = mpimg.imread(filename)\n",
    "    temp_x = img_to_array(img)\n",
    "    temp_x = img.reshape([256, 256])\n",
    "    tx  = np.append(tx, temp_x)\n",
    "    tx = tx.tolist()\n",
    "    train.append(tx)\n",
    "    tx = []\n",
    " \n",
    "train = StandardScaler().fit_transform(np.float32(train)) \n",
    "print(train)\n",
    "train_labels = np.array(pd.get_dummies(train_labels).astype(np.float32))\n",
    "\n",
    "norm_train_labels = np.argmax(train_labels, axis=1)\n",
    "print(norm_train_labels)"
   ]
  },
  {
   "cell_type": "code",
   "execution_count": 7,
   "metadata": {
    "collapsed": false
   },
   "outputs": [
    {
     "name": "stdout",
     "output_type": "stream",
     "text": [
      "[[ 1.34032857  1.31123185  1.33419383 ..., -0.18458454 -0.64802974\n",
      "  -0.14958598]\n",
      " [-1.27444959 -1.32983148 -1.32188988 ..., -1.37387383 -1.45421636\n",
      "  -1.44271326]\n",
      " [-1.06066275 -1.16372681 -1.20495546 ..., -1.16287088 -1.20468247\n",
      "  -1.03126371]\n",
      " ..., \n",
      " [-0.40285689 -0.44947699 -0.4532336  ...,  1.13897932  1.48260629\n",
      "   0.57534903]\n",
      " [ 1.38966405  1.36106324  1.38430858 ..., -0.3572233  -0.36010596\n",
      "  -0.4238857 ]\n",
      " [-1.12644339 -0.78168625 -0.87085682 ...,  0.17987508  0.21574163\n",
      "  -0.01243611]]\n",
      "[1 1 1 1 1 1 1 1 1 0 1 0 1 1 0 1 0 0 1 1 1 1 1 1 1 0 1 1 1 0 0 1 1 1 1 1 1\n",
      " 1 1 0 0 0 1 1 1 1 1 1 1 1 1 0 0 0 0 1 1 0 1 1 1 1 1 1 1 1 1 0 1 0 0 1 0 1\n",
      " 0 1 1 1 1 1 0 0 1 0 0 1 1 0 0 0 0 1 0 1 1 0 0 0 1 1 0 1 1 0 1 1 1 1 0 1 0\n",
      " 0 0 0 0 1 1 1 0 1 0 1 1 1 1 1 1 1 1 0 1 1 0 1 1 1 0 0 0 0 1 0 0 0 0 0 1 0\n",
      " 1 0 1 1 0 0 0 1 0 0 0 0 1 1 1 1 1 0 0]\n"
     ]
    }
   ],
   "source": [
    "os.chdir(\"/home/admin1/NUS_MCOMP/ML/Project/fwd/group_1/test\")\n",
    "\n",
    "test_labels = np.empty(shape=[0, 2], dtype=np.float32)\n",
    "tx   = []\n",
    "test = []\n",
    "count = 0\n",
    "for file in glob.glob(\"*.jpg\"):\n",
    "    name=file.split('_')\n",
    "    test_labels = np.append(test_labels, name[1])\n",
    "    filename = '/home/admin1/NUS_MCOMP/ML/Project/fwd/group_1/test/{}'.format(file)\n",
    "    img    = mpimg.imread(filename)\n",
    "    temp_x = img_to_array(img)\n",
    "    temp_x = img.reshape([256, 256])\n",
    "    tx  = np.append(tx, temp_x)\n",
    "    tx = tx.tolist()\n",
    "    test.append(tx)\n",
    "    tx = []\n",
    "    \n",
    "test = StandardScaler().fit_transform(np.float32(test)) \n",
    "print(test)\n",
    "\n",
    "test_labels = np.array(pd.get_dummies(test_labels).astype(np.float32))\n",
    "\n",
    "norm_test_labels = np.argmax(test_labels, axis=1)\n",
    "print(norm_test_labels)"
   ]
  },
  {
   "cell_type": "code",
   "execution_count": 11,
   "metadata": {
    "collapsed": false
   },
   "outputs": [
    {
     "name": "stdout",
     "output_type": "stream",
     "text": [
      "Accuracy Score:\n",
      "0.682634730539\n"
     ]
    }
   ],
   "source": [
    "from sklearn.svm import SVC\n",
    "from sklearn import metrics\n",
    "\n",
    "svc=SVC(kernel='linear') #Default hyperparameters\n",
    "svc.fit(train,norm_train_labels)\n",
    "y_pred=svc.predict(test)\n",
    "print('Accuracy Score:')\n",
    "print(metrics.accuracy_score(norm_test_labels,y_pred))"
   ]
  },
  {
   "cell_type": "code",
   "execution_count": null,
   "metadata": {
    "collapsed": false
   },
   "outputs": [],
   "source": [
    "  "
   ]
  },
  {
   "cell_type": "code",
   "execution_count": 17,
   "metadata": {
    "collapsed": false
   },
   "outputs": [
    {
     "name": "stdout",
     "output_type": "stream",
     "text": [
      "10000\n"
     ]
    }
   ],
   "source": [
    "\n"
   ]
  },
  {
   "cell_type": "code",
   "execution_count": 18,
   "metadata": {
    "collapsed": false,
    "scrolled": true
   },
   "outputs": [
    {
     "name": "stdout",
     "output_type": "stream",
     "text": [
      "[[ 0.  0.  0. ...,  0.  0.  0.]\n",
      " [ 0.  0.  0. ...,  0.  0.  0.]\n",
      " [ 0.  0.  0. ...,  0.  0.  0.]\n",
      " ..., \n",
      " [ 0.  0.  0. ...,  0.  0.  0.]\n",
      " [ 0.  0.  0. ...,  0.  0.  0.]\n",
      " [ 0.  0.  0. ...,  0.  0.  0.]]\n"
     ]
    }
   ],
   "source": []
  },
  {
   "cell_type": "code",
   "execution_count": null,
   "metadata": {
    "collapsed": true
   },
   "outputs": [],
   "source": []
  }
 ],
 "metadata": {
  "kernelspec": {
   "display_name": "Python 2",
   "language": "python",
   "name": "python2"
  },
  "language_info": {
   "codemirror_mode": {
    "name": "ipython",
    "version": 2
   },
   "file_extension": ".py",
   "mimetype": "text/x-python",
   "name": "python",
   "nbconvert_exporter": "python",
   "pygments_lexer": "ipython2",
   "version": "2.7.13"
  }
 },
 "nbformat": 4,
 "nbformat_minor": 2
}
