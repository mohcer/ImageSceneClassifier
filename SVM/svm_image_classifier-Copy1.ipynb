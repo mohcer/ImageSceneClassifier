{
 "cells": [
  {
   "cell_type": "code",
   "execution_count": 7,
   "metadata": {
    "collapsed": false
   },
   "outputs": [],
   "source": [
    "import matplotlib.pyplot as plt\n",
    "import matplotlib.image as mpimg\n",
    "import glob, os\n",
    "import pandas as pd\n",
    "import numpy as np\n",
    "from PIL import Image\n",
    "from sklearn.metrics import confusion_matrix\n",
    "from sklearn.preprocessing import StandardScaler\n",
    "from keras.preprocessing.image import img_to_array"
   ]
  },
  {
   "cell_type": "code",
   "execution_count": null,
   "metadata": {
    "collapsed": false
   },
   "outputs": [],
   "source": []
  },
  {
   "cell_type": "code",
   "execution_count": 9,
   "metadata": {
    "collapsed": false
   },
   "outputs": [
    {
     "ename": "TypeError",
     "evalue": "Object does not appear to be a 8-bit string path or a Python file-like object",
     "output_type": "error",
     "traceback": [
      "\u001b[0;31m---------------------------------------------------------------------------\u001b[0m",
      "\u001b[0;31mTypeError\u001b[0m                                 Traceback (most recent call last)",
      "\u001b[0;32m<ipython-input-9-4bdff4a0bfea>\u001b[0m in \u001b[0;36m<module>\u001b[0;34m()\u001b[0m\n\u001b[1;32m     12\u001b[0m     \u001b[0mtrain_labels\u001b[0m \u001b[0;34m=\u001b[0m \u001b[0mnp\u001b[0m\u001b[0;34m.\u001b[0m\u001b[0mappend\u001b[0m\u001b[0;34m(\u001b[0m\u001b[0mtrain_labels\u001b[0m\u001b[0;34m,\u001b[0m \u001b[0mname\u001b[0m\u001b[0;34m[\u001b[0m\u001b[0;36m1\u001b[0m\u001b[0;34m]\u001b[0m\u001b[0;34m)\u001b[0m\u001b[0;34m\u001b[0m\u001b[0m\n\u001b[1;32m     13\u001b[0m     \u001b[0mfilename\u001b[0m \u001b[0;34m=\u001b[0m \u001b[0mImage\u001b[0m\u001b[0;34m.\u001b[0m\u001b[0mopen\u001b[0m\u001b[0;34m(\u001b[0m\u001b[0;34m'/home/admin1/NUS_MCOMP/ML/Project/fwd/group_1/train/{}'\u001b[0m\u001b[0;34m.\u001b[0m\u001b[0mformat\u001b[0m\u001b[0;34m(\u001b[0m\u001b[0mfile\u001b[0m\u001b[0;34m)\u001b[0m\u001b[0;34m)\u001b[0m\u001b[0;34m\u001b[0m\u001b[0m\n\u001b[0;32m---> 14\u001b[0;31m     \u001b[0mimg\u001b[0m    \u001b[0;34m=\u001b[0m \u001b[0mmpimg\u001b[0m\u001b[0;34m.\u001b[0m\u001b[0mimread\u001b[0m\u001b[0;34m(\u001b[0m\u001b[0mfilename\u001b[0m\u001b[0;34m)\u001b[0m\u001b[0;34m\u001b[0m\u001b[0m\n\u001b[0m\u001b[1;32m     15\u001b[0m     \u001b[0mtemp_x\u001b[0m \u001b[0;34m=\u001b[0m \u001b[0mimg_to_array\u001b[0m\u001b[0;34m(\u001b[0m\u001b[0mimg\u001b[0m\u001b[0;34m)\u001b[0m\u001b[0;34m\u001b[0m\u001b[0m\n\u001b[1;32m     16\u001b[0m     \u001b[0mtemp_x\u001b[0m \u001b[0;34m=\u001b[0m \u001b[0mimg\u001b[0m\u001b[0;34m.\u001b[0m\u001b[0mresize\u001b[0m\u001b[0;34m(\u001b[0m\u001b[0;34m(\u001b[0m\u001b[0;36m128\u001b[0m\u001b[0;34m,\u001b[0m \u001b[0;36m128\u001b[0m\u001b[0;34m)\u001b[0m\u001b[0;34m,\u001b[0m \u001b[0mImage\u001b[0m\u001b[0;34m.\u001b[0m\u001b[0mANTIALIAS\u001b[0m\u001b[0;34m)\u001b[0m\u001b[0;34m\u001b[0m\u001b[0m\n",
      "\u001b[0;32m/home/admin1/.local/lib/python2.7/site-packages/matplotlib/image.pyc\u001b[0m in \u001b[0;36mimread\u001b[0;34m(fname, format)\u001b[0m\n\u001b[1;32m   1247\u001b[0m                 \u001b[0;32mreturn\u001b[0m \u001b[0mhandler\u001b[0m\u001b[0;34m(\u001b[0m\u001b[0mfd\u001b[0m\u001b[0;34m)\u001b[0m\u001b[0;34m\u001b[0m\u001b[0m\n\u001b[1;32m   1248\u001b[0m     \u001b[0;32melse\u001b[0m\u001b[0;34m:\u001b[0m\u001b[0;34m\u001b[0m\u001b[0m\n\u001b[0;32m-> 1249\u001b[0;31m         \u001b[0;32mreturn\u001b[0m \u001b[0mhandler\u001b[0m\u001b[0;34m(\u001b[0m\u001b[0mfname\u001b[0m\u001b[0;34m)\u001b[0m\u001b[0;34m\u001b[0m\u001b[0m\n\u001b[0m\u001b[1;32m   1250\u001b[0m \u001b[0;34m\u001b[0m\u001b[0m\n\u001b[1;32m   1251\u001b[0m \u001b[0;34m\u001b[0m\u001b[0m\n",
      "\u001b[0;31mTypeError\u001b[0m: Object does not appear to be a 8-bit string path or a Python file-like object"
     ]
    }
   ],
   "source": [
    "os.chdir(\"/home/admin1/NUS_MCOMP/ML/Project/fwd/group_1/train\")\n",
    "\n",
    "train_labels = np.empty(shape=[0, 2], dtype=np.float32)\n",
    "\n",
    "#crete the training set\n",
    "tx = []\n",
    "train = []\n",
    "count = 0\n",
    "for file in glob.glob(\"*.jpg\"):\n",
    "    name=file.split('_')\n",
    "    \n",
    "    train_labels = np.append(train_labels, name[1])\n",
    "    filename = '/home/admin1/NUS_MCOMP/ML/Project/fwd/group_1/train/{}'.format(file)\n",
    "    img    = mpimg.imread(filename)\n",
    "    temp_x = img_to_array(img)\n",
    "    temp_x = img.resize((128, 128))\n",
    "    tx  = np.append(tx, temp_x)\n",
    "    tx = tx.tolist()\n",
    "    train.append(tx)\n",
    "    tx = []\n",
    " \n",
    "train = StandardScaler().fit_transform(np.float32(train)) \n",
    "print(train)\n",
    "train_labels = np.array(pd.get_dummies(train_labels).astype(np.float32))\n",
    "\n",
    "norm_train_labels = np.argmax(train_labels, axis=1)\n",
    "print(norm_train_labels)"
   ]
  },
  {
   "cell_type": "code",
   "execution_count": 3,
   "metadata": {
    "collapsed": false
   },
   "outputs": [
    {
     "name": "stdout",
     "output_type": "stream",
     "text": [
      "[[ 1.34032857  1.31123185  1.33419383 ..., -0.18458454 -0.64802974\n",
      "  -0.14958598]\n",
      " [-1.27444959 -1.32983148 -1.32188988 ..., -1.37387383 -1.45421636\n",
      "  -1.44271326]\n",
      " [-1.06066275 -1.16372681 -1.20495546 ..., -1.16287088 -1.20468247\n",
      "  -1.03126371]\n",
      " ..., \n",
      " [-0.40285689 -0.44947699 -0.4532336  ...,  1.13897932  1.48260629\n",
      "   0.57534903]\n",
      " [ 1.38966405  1.36106324  1.38430858 ..., -0.3572233  -0.36010596\n",
      "  -0.4238857 ]\n",
      " [-1.12644339 -0.78168625 -0.87085682 ...,  0.17987508  0.21574163\n",
      "  -0.01243611]]\n",
      "[1 1 1 1 1 1 1 1 1 0 1 0 1 1 0 1 0 0 1 1 1 1 1 1 1 0 1 1 1 0 0 1 1 1 1 1 1\n",
      " 1 1 0 0 0 1 1 1 1 1 1 1 1 1 0 0 0 0 1 1 0 1 1 1 1 1 1 1 1 1 0 1 0 0 1 0 1\n",
      " 0 1 1 1 1 1 0 0 1 0 0 1 1 0 0 0 0 1 0 1 1 0 0 0 1 1 0 1 1 0 1 1 1 1 0 1 0\n",
      " 0 0 0 0 1 1 1 0 1 0 1 1 1 1 1 1 1 1 0 1 1 0 1 1 1 0 0 0 0 1 0 0 0 0 0 1 0\n",
      " 1 0 1 1 0 0 0 1 0 0 0 0 1 1 1 1 1 0 0]\n"
     ]
    }
   ],
   "source": [
    "os.chdir(\"/home/admin1/NUS_MCOMP/ML/Project/fwd/group_1/test\")\n",
    "\n",
    "test_labels = np.empty(shape=[0, 2], dtype=np.float32)\n",
    "tx   = []\n",
    "test = []\n",
    "count = 0\n",
    "for file in glob.glob(\"*.jpg\"):\n",
    "    name=file.split('_')\n",
    "    test_labels = np.append(test_labels, name[1])\n",
    "    filename = '/home/admin1/NUS_MCOMP/ML/Project/fwd/group_1/test/{}'.format(file)\n",
    "    img    = mpimg.imread(filename)\n",
    "    temp_x = img_to_array(img)\n",
    "    temp_x = img.reshape([256, 256])\n",
    "    tx  = np.append(tx, temp_x)\n",
    "    tx = tx.tolist()\n",
    "    test.append(tx)\n",
    "    tx = []\n",
    "    \n",
    "test = StandardScaler().fit_transform(np.float32(test)) \n",
    "print(test)\n",
    "\n",
    "test_labels = np.array(pd.get_dummies(test_labels).astype(np.float32))\n",
    "\n",
    "norm_test_labels = np.argmax(test_labels, axis=1)\n",
    "print(norm_test_labels)"
   ]
  },
  {
   "cell_type": "code",
   "execution_count": 4,
   "metadata": {
    "collapsed": false
   },
   "outputs": [
    {
     "name": "stdout",
     "output_type": "stream",
     "text": [
      "Accuracy Score:\n",
      "0.790419161677\n"
     ]
    }
   ],
   "source": [
    "from sklearn.svm import SVC\n",
    "from sklearn import metrics\n",
    "\n",
    "svc=SVC() #Default hyperparameters\n",
    "svc.fit(train,norm_train_labels)\n",
    "y_pred=svc.predict(test)\n",
    "print('Accuracy Score:')\n",
    "print(metrics.accuracy_score(norm_test_labels,y_pred))"
   ]
  },
  {
   "cell_type": "code",
   "execution_count": 5,
   "metadata": {
    "collapsed": false
   },
   "outputs": [
    {
     "name": "stdout",
     "output_type": "stream",
     "text": [
      "Accuracy Score:\n",
      "0.682634730539\n"
     ]
    }
   ],
   "source": [
    "svc=SVC(kernel='linear', C=0.1) #Default hyperparameters\n",
    "svc.fit(train,norm_train_labels)\n",
    "y_pred=svc.predict(test)\n",
    "print('Accuracy Score:')\n",
    "print(metrics.accuracy_score(norm_test_labels,y_pred))"
   ]
  },
  {
   "cell_type": "code",
   "execution_count": 7,
   "metadata": {
    "collapsed": false
   },
   "outputs": [
    {
     "name": "stdout",
     "output_type": "stream",
     "text": [
      "Accuracy Score:\n",
      "0.802395209581\n"
     ]
    }
   ],
   "source": [
    "\n",
    "svc=SVC(kernel='rbf', C=2.0) #Default hyperparameters\n",
    "svc.fit(train,norm_train_labels)\n",
    "y_pred=svc.predict(test)\n",
    "print('Accuracy Score:')\n",
    "print(metrics.accuracy_score(norm_test_labels,y_pred))"
   ]
  },
  {
   "cell_type": "code",
   "execution_count": 6,
   "metadata": {
    "collapsed": false,
    "scrolled": true
   },
   "outputs": [
    {
     "name": "stdout",
     "output_type": "stream",
     "text": [
      "Accuracy Score:\n",
      "0.62874251497\n"
     ]
    }
   ],
   "source": [
    "svc=SVC(kernel='poly', degree=3) #Default hyperparameters\n",
    "svc.fit(train,norm_train_labels)\n",
    "y_pred=svc.predict(test)\n",
    "print('Accuracy Score:')\n",
    "print(metrics.accuracy_score(norm_test_labels,y_pred))"
   ]
  }
 ],
 "metadata": {
  "kernelspec": {
   "display_name": "Python 2",
   "language": "python",
   "name": "python2"
  },
  "language_info": {
   "codemirror_mode": {
    "name": "ipython",
    "version": 2
   },
   "file_extension": ".py",
   "mimetype": "text/x-python",
   "name": "python",
   "nbconvert_exporter": "python",
   "pygments_lexer": "ipython2",
   "version": "2.7.13"
  }
 },
 "nbformat": 4,
 "nbformat_minor": 2
}
