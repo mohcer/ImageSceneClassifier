{
 "cells": [
  {
   "cell_type": "code",
   "execution_count": 2,
   "metadata": {
    "collapsed": false
   },
   "outputs": [],
   "source": [
    "import matplotlib.pyplot as plt\n",
    "import matplotlib.image as mpimg\n",
    "from PIL import Image\n",
    "import glob, os"
   ]
  },
  {
   "cell_type": "code",
   "execution_count": 3,
   "metadata": {
    "collapsed": false
   },
   "outputs": [],
   "source": [
    "# Read Train Dataset Images and Display them"
   ]
  },
  {
   "cell_type": "code",
   "execution_count": 15,
   "metadata": {
    "collapsed": false
   },
   "outputs": [
    {
     "name": "stdout",
     "output_type": "stream",
     "text": [
      "0158_1_opencountry.jpg\n",
      "opencountry\n",
      "[[141 161 154 ..., 175 175 175]\n",
      " [156 170 159 ..., 175 175 175]\n",
      " [165 173 159 ..., 175 175 175]\n",
      " ..., \n",
      " [ 86  61  50 ..., 196 183 169]\n",
      " [ 74  68  68 ..., 189 180 171]\n",
      " [ 96  90  82 ..., 174 188 199]]\n"
     ]
    }
   ],
   "source": [
    "os.chdir(\"/home/admin1/NUS_MCOMP/ML/Project/fwd/group_1/train\")\n",
    "for file in glob.glob(\"*.jpg\"):\n",
    "    print(file)\n",
    "    name=file.split('_')\n",
    "    label=name[2].split('.')[0]\n",
    "    print label\n",
    "    #print name\n",
    "    filename='/home/admin1/NUS_MCOMP/ML/Project/fwd/group_1/train/{}'.format(file)\n",
    "    #print filename\n",
    "    img=mpimg.imread(filename)\n",
    "    imgplot = plt.imshow(img,cmap='gray_r')\n",
    "    plt.imshow(char, cmap='gray_r')\n",
    "    plt.show()\n",
    "    break\n",
    "    \n",
    "\n",
    "   "
   ]
  },
  {
   "cell_type": "code",
   "execution_count": 9,
   "metadata": {
    "collapsed": false
   },
   "outputs": [],
   "source": []
  },
  {
   "cell_type": "code",
   "execution_count": null,
   "metadata": {
    "collapsed": false
   },
   "outputs": [],
   "source": []
  }
 ],
 "metadata": {
  "kernelspec": {
   "display_name": "Python 2",
   "language": "python",
   "name": "python2"
  },
  "language_info": {
   "codemirror_mode": {
    "name": "ipython",
    "version": 2
   },
   "file_extension": ".py",
   "mimetype": "text/x-python",
   "name": "python",
   "nbconvert_exporter": "python",
   "pygments_lexer": "ipython2",
   "version": "2.7.13"
  }
 },
 "nbformat": 4,
 "nbformat_minor": 0
}
